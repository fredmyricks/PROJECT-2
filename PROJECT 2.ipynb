#%%
# Import necessary libraries
import pandas as pd

# Load airport, weather, and airline datasets
airport_df = pd.read_csv('airports.csv')
weather_df = pd.read_csv('weather.csv')
airline_df = pd.read_csv('airlines.csv')

# Display the first few rows of each dataset to understand their structures
airport_df.head()
weather_df.head()
airline_df.head()

#%%
#Tyding up the airports_data of the airports.cvs

import pandas as pd

# Load the 'airports.csv' dataset
airports_df = pd.read_csv('airports.csv')

# Display the number of rows before cleaning
print(f"Number of rows before cleaning: {len(airports_df)}")

# Drop duplicates based on all columns
airports_df_cleaned = airports_df.drop_duplicates()

# Display the number of rows after cleaning
print(f"Number of rows after cleaning: {len(airports_df_cleaned)}")

# Save the cleaned dataset to a new CSV file
airports_df_cleaned.to_csv('cleaned_airports.csv', index=False)


# Drop duplicates based on specific columns (e.g., 'faa' and 'name')
airports_df_cleaned = airports_df.drop_duplicates(subset=['faa', 'name'])

#%% md
In this cleanup:

I loaded the 'airports.csv' dataset into a DataFrame using pd.read_csv.
I printed the number of rows before cleaning.
I use the drop_duplicates method to remove duplicate rows based on all columns.
I printed the number of rows after cleaning.
I saved the cleaned dataset to a new CSV file, 'cleaned_airports.csv'.
#%%
#Tyding up the airlines_data of the airlines.cvs

import pandas as pd

# Load the 'airlines.csv' dataset
airlines_df = pd.read_csv('airlines.csv')

# Display the number of rows before cleaning
print(f"Number of rows before cleaning: {len(airlines_df)}")

# Drop duplicates based on all columns
airlines_df_cleaned = airlines_df.drop_duplicates()

# Display the number of rows after cleaning
print(f"Number of rows after cleaning: {len(airlines_df_cleaned)}")

# Save the cleaned dataset to a new CSV file
airlines_df_cleaned.to_csv('cleaned_airlines.csv', index=False)

# Drop duplicates based on specific columns (e.g., 'carrier' and 'name')
airlines_df_cleaned = airlines_df.drop_duplicates(subset=['carrier', 'name'])


#%% md
In this cleanup:

I loaded the 'airlines.csv' dataset into a DataFrame using pd.read_csv.
I printed the number of rows before cleaning.
I use the drop_duplicates method to remove duplicate rows based on all columns.
I printed the number of rows after cleaning.
I saved the cleaned dataset to a new CSV file, 'cleaned_airlines.csv'.

#%%
#Tyding up the weather_data of the weather.cvs

import pandas as pd

# Load the 'weather.csv' dataset
weather_df = pd.read_csv('weather.csv')

# Display the number of rows and columns before cleaning
print(f"Number of rows before cleaning: {weather_df.shape[0]}")
print(f"Number of columns before cleaning: {weather_df.shape[1]}")

# Drop duplicate rows based on all columns
weather_df = weather_df.drop_duplicates()

# Drop rows with missing values
weather_df = weather_df.dropna()

# Display the number of rows and columns after cleaning
print(f"Number of rows after cleaning: {weather_df.shape[0]}")
print(f"Number of columns after cleaning: {weather_df.shape[1]}")

# Save the cleaned dataset to a new CSV file
weather_df.to_csv('cleaned_weather.csv', index=False)

#%% md
In this cleanup:

I loaded the 'weather.csv' dataset into a DataFrame using pd.read_csv.
I printed the number of rows and columns before cleaning.
I use the drop_duplicates method to remove duplicate rows based on all columns.
I printed the number of rows and columns after cleaning.
I saved the cleaned dataset to a new CSV file, 'cleaned_weather.csv'.

#%%
# Analysis 1: Airport with the Highest Altitude
highest_altitude_airport = airport_df.loc[airport_df['alt'].idxmax()]
highest_altitude_airport


# Analysis 2: Average Temperature per Year
avg_temp_per_year = weather_df.groupby('year')['temp'].mean()
avg_temp_per_year

# Analysis 3: Number of Carriers
num_carriers = airline_df['carrier'].nunique()
num_carriers
#%%
